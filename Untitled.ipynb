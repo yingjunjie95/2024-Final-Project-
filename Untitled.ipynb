{
  "cells": [
    {
      "cell_type": "markdown",
      "metadata": {
        "id": "view-in-github",
        "colab_type": "text"
      },
      "source": [
        "<a href=\"https://colab.research.google.com/github/yingjunjie95/2024-Final-Project-/blob/main/Untitled.ipynb\" target=\"_parent\"><img src=\"https://colab.research.google.com/assets/colab-badge.svg\" alt=\"Open In Colab\"/></a>"
      ]
    },
    {
      "cell_type": "code",
      "source": [
        "! pip install --extra-index-url https://pypi.nvidia.com cuml-cu12"
      ],
      "metadata": {
        "colab": {
          "base_uri": "https://localhost:8080/"
        },
        "id": "tXvLfZoBEbr_",
        "outputId": "eed2843a-27dc-4342-ea5a-70ced93c34b5"
      },
      "id": "tXvLfZoBEbr_",
      "execution_count": 1,
      "outputs": [
        {
          "output_type": "stream",
          "name": "stdout",
          "text": [
            "Looking in indexes: https://pypi.org/simple, https://pypi.nvidia.com\n",
            "Collecting cuml-cu12\n",
            "  Downloading https://pypi.nvidia.com/cuml-cu12/cuml_cu12-24.8.0-cp310-cp310-manylinux_2_28_x86_64.whl (1291.4 MB)\n",
            "\u001b[2K     \u001b[90m━━━━━━━━━━━━━━━━━━━━━━━━━━━━━━━━━━━━━━━━\u001b[0m \u001b[32m1.3/1.3 GB\u001b[0m \u001b[31m1.1 MB/s\u001b[0m eta \u001b[36m0:00:00\u001b[0m\n",
            "\u001b[?25hCollecting cudf-cu12==24.8.* (from cuml-cu12)\n",
            "  Downloading https://pypi.nvidia.com/cudf-cu12/cudf_cu12-24.8.3-cp310-cp310-manylinux_2_28_x86_64.whl (517.8 MB)\n",
            "\u001b[2K     \u001b[90m━━━━━━━━━━━━━━━━━━━━━━━━━━━━━━━━━━━━━━━━\u001b[0m \u001b[32m517.8/517.8 MB\u001b[0m \u001b[31m2.3 MB/s\u001b[0m eta \u001b[36m0:00:00\u001b[0m\n",
            "\u001b[?25hRequirement already satisfied: cupy-cuda12x>=12.0.0 in /usr/local/lib/python3.10/dist-packages (from cuml-cu12) (12.2.0)\n",
            "Collecting dask-cuda==24.8.* (from cuml-cu12)\n",
            "  Downloading https://pypi.nvidia.com/dask-cuda/dask_cuda-24.8.2-py3-none-any.whl (129 kB)\n",
            "\u001b[2K     \u001b[90m━━━━━━━━━━━━━━━━━━━━━━━━━━━━━━━━━━━━━━━━\u001b[0m \u001b[32m129.6/129.6 kB\u001b[0m \u001b[31m12.2 MB/s\u001b[0m eta \u001b[36m0:00:00\u001b[0m\n",
            "\u001b[?25hCollecting dask-cudf-cu12==24.8.* (from cuml-cu12)\n",
            "  Downloading https://pypi.nvidia.com/dask-cudf-cu12/dask_cudf_cu12-24.8.3-py3-none-any.whl (53 kB)\n",
            "\u001b[2K     \u001b[90m━━━━━━━━━━━━━━━━━━━━━━━━━━━━━━━━━━━━━━━━\u001b[0m \u001b[32m53.4/53.4 kB\u001b[0m \u001b[31m4.5 MB/s\u001b[0m eta \u001b[36m0:00:00\u001b[0m\n",
            "\u001b[?25hRequirement already satisfied: joblib>=0.11 in /usr/local/lib/python3.10/dist-packages (from cuml-cu12) (1.4.2)\n",
            "Requirement already satisfied: numba>=0.57 in /usr/local/lib/python3.10/dist-packages (from cuml-cu12) (0.60.0)\n",
            "Requirement already satisfied: packaging in /usr/local/lib/python3.10/dist-packages (from cuml-cu12) (24.1)\n",
            "Collecting pylibraft-cu12==24.8.* (from cuml-cu12)\n",
            "  Downloading https://pypi.nvidia.com/pylibraft-cu12/pylibraft_cu12-24.8.1-cp310-cp310-manylinux_2_28_x86_64.whl (783.8 MB)\n",
            "\u001b[2K     \u001b[90m━━━━━━━━━━━━━━━━━━━━━━━━━━━━━━━━━━━━━━━━\u001b[0m \u001b[32m783.8/783.8 MB\u001b[0m \u001b[31m2.1 MB/s\u001b[0m eta \u001b[36m0:00:00\u001b[0m\n",
            "\u001b[?25hCollecting raft-dask-cu12==24.8.* (from cuml-cu12)\n",
            "  Downloading https://pypi.nvidia.com/raft-dask-cu12/raft_dask_cu12-24.8.1-cp310-cp310-manylinux_2_28_x86_64.whl (190.6 MB)\n",
            "\u001b[2K     \u001b[90m━━━━━━━━━━━━━━━━━━━━━━━━━━━━━━━━━━━━━━━━\u001b[0m \u001b[32m190.6/190.6 MB\u001b[0m \u001b[31m6.1 MB/s\u001b[0m eta \u001b[36m0:00:00\u001b[0m\n",
            "\u001b[?25hCollecting rapids-dask-dependency==24.8.* (from cuml-cu12)\n",
            "  Downloading https://pypi.nvidia.com/rapids-dask-dependency/rapids_dask_dependency-24.8.0-py3-none-any.whl (15 kB)\n",
            "Collecting rmm-cu12==24.8.* (from cuml-cu12)\n",
            "  Downloading https://pypi.nvidia.com/rmm-cu12/rmm_cu12-24.8.2-cp310-cp310-manylinux_2_24_x86_64.manylinux_2_28_x86_64.whl (1.7 MB)\n",
            "\u001b[2K     \u001b[90m━━━━━━━━━━━━━━━━━━━━━━━━━━━━━━━━━━━━━━━━\u001b[0m \u001b[32m1.7/1.7 MB\u001b[0m \u001b[31m72.2 MB/s\u001b[0m eta \u001b[36m0:00:00\u001b[0m\n",
            "\u001b[?25hRequirement already satisfied: scipy>=1.8.0 in /usr/local/lib/python3.10/dist-packages (from cuml-cu12) (1.13.1)\n",
            "Collecting treelite==4.3.0 (from cuml-cu12)\n",
            "  Downloading treelite-4.3.0-py3-none-manylinux2014_x86_64.whl.metadata (1.5 kB)\n",
            "Requirement already satisfied: cachetools in /usr/local/lib/python3.10/dist-packages (from cudf-cu12==24.8.*->cuml-cu12) (5.5.0)\n",
            "Requirement already satisfied: cuda-python<13.0a0,>=12.0 in /usr/local/lib/python3.10/dist-packages (from cudf-cu12==24.8.*->cuml-cu12) (12.2.1)\n",
            "Requirement already satisfied: fsspec>=0.6.0 in /usr/local/lib/python3.10/dist-packages (from cudf-cu12==24.8.*->cuml-cu12) (2024.6.1)\n",
            "Requirement already satisfied: numpy<2.0a0,>=1.23 in /usr/local/lib/python3.10/dist-packages (from cudf-cu12==24.8.*->cuml-cu12) (1.26.4)\n",
            "Requirement already satisfied: nvtx>=0.2.1 in /usr/local/lib/python3.10/dist-packages (from cudf-cu12==24.8.*->cuml-cu12) (0.2.10)\n",
            "Requirement already satisfied: pandas<2.2.3dev0,>=2.0 in /usr/local/lib/python3.10/dist-packages (from cudf-cu12==24.8.*->cuml-cu12) (2.1.4)\n",
            "Collecting pyarrow<16.2.0a0,>=16.1.0 (from cudf-cu12==24.8.*->cuml-cu12)\n",
            "  Downloading pyarrow-16.1.0-cp310-cp310-manylinux_2_28_x86_64.whl.metadata (3.0 kB)\n",
            "Requirement already satisfied: pynvjitlink-cu12 in /usr/local/lib/python3.10/dist-packages (from cudf-cu12==24.8.*->cuml-cu12) (0.3.0)\n",
            "Requirement already satisfied: rich in /usr/local/lib/python3.10/dist-packages (from cudf-cu12==24.8.*->cuml-cu12) (13.8.1)\n",
            "Requirement already satisfied: typing_extensions>=4.0.0 in /usr/local/lib/python3.10/dist-packages (from cudf-cu12==24.8.*->cuml-cu12) (4.12.2)\n",
            "Requirement already satisfied: click>=8.1 in /usr/local/lib/python3.10/dist-packages (from dask-cuda==24.8.*->cuml-cu12) (8.1.7)\n",
            "Collecting pynvml<11.5,>=11.0.0 (from dask-cuda==24.8.*->cuml-cu12)\n",
            "  Downloading pynvml-11.4.1-py3-none-any.whl.metadata (7.7 kB)\n",
            "Requirement already satisfied: zict>=2.0.0 in /usr/local/lib/python3.10/dist-packages (from dask-cuda==24.8.*->cuml-cu12) (3.0.0)\n",
            "Collecting distributed-ucxx-cu12==0.39.* (from raft-dask-cu12==24.8.*->cuml-cu12)\n",
            "  Downloading https://pypi.nvidia.com/distributed-ucxx-cu12/distributed_ucxx_cu12-0.39.1-py3-none-any.whl (24 kB)\n",
            "Collecting ucx-py-cu12==0.39.* (from raft-dask-cu12==24.8.*->cuml-cu12)\n",
            "  Downloading https://pypi.nvidia.com/ucx-py-cu12/ucx_py_cu12-0.39.2-cp310-cp310-manylinux_2_17_x86_64.manylinux2014_x86_64.manylinux_2_28_x86_64.whl (2.1 MB)\n",
            "\u001b[2K     \u001b[90m━━━━━━━━━━━━━━━━━━━━━━━━━━━━━━━━━━━━━━━━\u001b[0m \u001b[32m2.1/2.1 MB\u001b[0m \u001b[31m75.5 MB/s\u001b[0m eta \u001b[36m0:00:00\u001b[0m\n",
            "\u001b[?25hCollecting dask==2024.7.1 (from rapids-dask-dependency==24.8.*->cuml-cu12)\n",
            "  Downloading dask-2024.7.1-py3-none-any.whl.metadata (3.8 kB)\n",
            "Collecting distributed==2024.7.1 (from rapids-dask-dependency==24.8.*->cuml-cu12)\n",
            "  Downloading distributed-2024.7.1-py3-none-any.whl.metadata (3.4 kB)\n",
            "Collecting dask-expr (from rapids-dask-dependency==24.8.*->cuml-cu12)\n",
            "  Downloading dask_expr-1.1.15-py3-none-any.whl.metadata (2.5 kB)\n",
            "Requirement already satisfied: cloudpickle>=1.5.0 in /usr/local/lib/python3.10/dist-packages (from dask==2024.7.1->rapids-dask-dependency==24.8.*->cuml-cu12) (2.2.1)\n",
            "Requirement already satisfied: partd>=1.4.0 in /usr/local/lib/python3.10/dist-packages (from dask==2024.7.1->rapids-dask-dependency==24.8.*->cuml-cu12) (1.4.2)\n",
            "Requirement already satisfied: pyyaml>=5.3.1 in /usr/local/lib/python3.10/dist-packages (from dask==2024.7.1->rapids-dask-dependency==24.8.*->cuml-cu12) (6.0.2)\n",
            "Requirement already satisfied: toolz>=0.10.0 in /usr/local/lib/python3.10/dist-packages (from dask==2024.7.1->rapids-dask-dependency==24.8.*->cuml-cu12) (0.12.1)\n",
            "Requirement already satisfied: importlib-metadata>=4.13.0 in /usr/local/lib/python3.10/dist-packages (from dask==2024.7.1->rapids-dask-dependency==24.8.*->cuml-cu12) (8.5.0)\n",
            "Requirement already satisfied: jinja2>=2.10.3 in /usr/local/lib/python3.10/dist-packages (from distributed==2024.7.1->rapids-dask-dependency==24.8.*->cuml-cu12) (3.1.4)\n",
            "Requirement already satisfied: locket>=1.0.0 in /usr/local/lib/python3.10/dist-packages (from distributed==2024.7.1->rapids-dask-dependency==24.8.*->cuml-cu12) (1.0.0)\n",
            "Requirement already satisfied: msgpack>=1.0.0 in /usr/local/lib/python3.10/dist-packages (from distributed==2024.7.1->rapids-dask-dependency==24.8.*->cuml-cu12) (1.0.8)\n",
            "Requirement already satisfied: psutil>=5.7.2 in /usr/local/lib/python3.10/dist-packages (from distributed==2024.7.1->rapids-dask-dependency==24.8.*->cuml-cu12) (5.9.5)\n",
            "Requirement already satisfied: sortedcontainers>=2.0.5 in /usr/local/lib/python3.10/dist-packages (from distributed==2024.7.1->rapids-dask-dependency==24.8.*->cuml-cu12) (2.4.0)\n",
            "Requirement already satisfied: tblib>=1.6.0 in /usr/local/lib/python3.10/dist-packages (from distributed==2024.7.1->rapids-dask-dependency==24.8.*->cuml-cu12) (3.0.0)\n",
            "Requirement already satisfied: tornado>=6.0.4 in /usr/local/lib/python3.10/dist-packages (from distributed==2024.7.1->rapids-dask-dependency==24.8.*->cuml-cu12) (6.3.3)\n",
            "Requirement already satisfied: urllib3>=1.24.3 in /usr/local/lib/python3.10/dist-packages (from distributed==2024.7.1->rapids-dask-dependency==24.8.*->cuml-cu12) (2.2.3)\n",
            "Collecting ucxx-cu12==0.39.* (from distributed-ucxx-cu12==0.39.*->raft-dask-cu12==24.8.*->cuml-cu12)\n",
            "  Downloading https://pypi.nvidia.com/ucxx-cu12/ucxx_cu12-0.39.1-cp310-cp310-manylinux_2_28_x86_64.whl (5.4 MB)\n",
            "\u001b[2K     \u001b[90m━━━━━━━━━━━━━━━━━━━━━━━━━━━━━━━━━━━━━━━━\u001b[0m \u001b[32m5.4/5.4 MB\u001b[0m \u001b[31m94.9 MB/s\u001b[0m eta \u001b[36m0:00:00\u001b[0m\n",
            "\u001b[?25hCollecting libucx-cu12<1.16,>=1.15.0 (from ucx-py-cu12==0.39.*->raft-dask-cu12==24.8.*->cuml-cu12)\n",
            "  Downloading libucx_cu12-1.15.0.post1-py3-none-manylinux_2_28_x86_64.whl.metadata (2.9 kB)\n",
            "Requirement already satisfied: fastrlock>=0.5 in /usr/local/lib/python3.10/dist-packages (from cupy-cuda12x>=12.0.0->cuml-cu12) (0.8.2)\n",
            "Requirement already satisfied: llvmlite<0.44,>=0.43.0dev0 in /usr/local/lib/python3.10/dist-packages (from numba>=0.57->cuml-cu12) (0.43.0)\n",
            "Requirement already satisfied: cython in /usr/local/lib/python3.10/dist-packages (from cuda-python<13.0a0,>=12.0->cudf-cu12==24.8.*->cuml-cu12) (3.0.11)\n",
            "Requirement already satisfied: python-dateutil>=2.8.2 in /usr/local/lib/python3.10/dist-packages (from pandas<2.2.3dev0,>=2.0->cudf-cu12==24.8.*->cuml-cu12) (2.8.2)\n",
            "Requirement already satisfied: pytz>=2020.1 in /usr/local/lib/python3.10/dist-packages (from pandas<2.2.3dev0,>=2.0->cudf-cu12==24.8.*->cuml-cu12) (2024.2)\n",
            "Requirement already satisfied: tzdata>=2022.1 in /usr/local/lib/python3.10/dist-packages (from pandas<2.2.3dev0,>=2.0->cudf-cu12==24.8.*->cuml-cu12) (2024.1)\n",
            "INFO: pip is looking at multiple versions of dask-expr to determine which version is compatible with other requirements. This could take a while.\n",
            "Collecting dask-expr (from rapids-dask-dependency==24.8.*->cuml-cu12)\n",
            "  Downloading dask_expr-1.1.14-py3-none-any.whl.metadata (2.5 kB)\n",
            "  Downloading dask_expr-1.1.13-py3-none-any.whl.metadata (2.5 kB)\n",
            "  Downloading dask_expr-1.1.12-py3-none-any.whl.metadata (2.5 kB)\n",
            "  Downloading dask_expr-1.1.11-py3-none-any.whl.metadata (2.5 kB)\n",
            "  Downloading dask_expr-1.1.10-py3-none-any.whl.metadata (2.5 kB)\n",
            "  Downloading dask_expr-1.1.9-py3-none-any.whl.metadata (2.5 kB)\n",
            "Requirement already satisfied: markdown-it-py>=2.2.0 in /usr/local/lib/python3.10/dist-packages (from rich->cudf-cu12==24.8.*->cuml-cu12) (3.0.0)\n",
            "Requirement already satisfied: pygments<3.0.0,>=2.13.0 in /usr/local/lib/python3.10/dist-packages (from rich->cudf-cu12==24.8.*->cuml-cu12) (2.18.0)\n",
            "Requirement already satisfied: zipp>=3.20 in /usr/local/lib/python3.10/dist-packages (from importlib-metadata>=4.13.0->dask==2024.7.1->rapids-dask-dependency==24.8.*->cuml-cu12) (3.20.2)\n",
            "Requirement already satisfied: MarkupSafe>=2.0 in /usr/local/lib/python3.10/dist-packages (from jinja2>=2.10.3->distributed==2024.7.1->rapids-dask-dependency==24.8.*->cuml-cu12) (2.1.5)\n",
            "Requirement already satisfied: mdurl~=0.1 in /usr/local/lib/python3.10/dist-packages (from markdown-it-py>=2.2.0->rich->cudf-cu12==24.8.*->cuml-cu12) (0.1.2)\n",
            "Requirement already satisfied: six>=1.5 in /usr/local/lib/python3.10/dist-packages (from python-dateutil>=2.8.2->pandas<2.2.3dev0,>=2.0->cudf-cu12==24.8.*->cuml-cu12) (1.16.0)\n",
            "Downloading treelite-4.3.0-py3-none-manylinux2014_x86_64.whl (915 kB)\n",
            "\u001b[2K   \u001b[90m━━━━━━━━━━━━━━━━━━━━━━━━━━━━━━━━━━━━━━━━\u001b[0m \u001b[32m916.0/916.0 kB\u001b[0m \u001b[31m13.9 MB/s\u001b[0m eta \u001b[36m0:00:00\u001b[0m\n",
            "\u001b[?25hDownloading dask-2024.7.1-py3-none-any.whl (1.2 MB)\n",
            "\u001b[2K   \u001b[90m━━━━━━━━━━━━━━━━━━━━━━━━━━━━━━━━━━━━━━━━\u001b[0m \u001b[32m1.2/1.2 MB\u001b[0m \u001b[31m47.1 MB/s\u001b[0m eta \u001b[36m0:00:00\u001b[0m\n",
            "\u001b[?25hDownloading distributed-2024.7.1-py3-none-any.whl (1.0 MB)\n",
            "\u001b[2K   \u001b[90m━━━━━━━━━━━━━━━━━━━━━━━━━━━━━━━━━━━━━━━━\u001b[0m \u001b[32m1.0/1.0 MB\u001b[0m \u001b[31m61.0 MB/s\u001b[0m eta \u001b[36m0:00:00\u001b[0m\n",
            "\u001b[?25hDownloading pyarrow-16.1.0-cp310-cp310-manylinux_2_28_x86_64.whl (40.8 MB)\n",
            "\u001b[2K   \u001b[90m━━━━━━━━━━━━━━━━━━━━━━━━━━━━━━━━━━━━━━━━\u001b[0m \u001b[32m40.8/40.8 MB\u001b[0m \u001b[31m15.4 MB/s\u001b[0m eta \u001b[36m0:00:00\u001b[0m\n",
            "\u001b[?25hDownloading pynvml-11.4.1-py3-none-any.whl (46 kB)\n",
            "\u001b[2K   \u001b[90m━━━━━━━━━━━━━━━━━━━━━━━━━━━━━━━━━━━━━━━━\u001b[0m \u001b[32m47.0/47.0 kB\u001b[0m \u001b[31m4.2 MB/s\u001b[0m eta \u001b[36m0:00:00\u001b[0m\n",
            "\u001b[?25hDownloading dask_expr-1.1.9-py3-none-any.whl (241 kB)\n",
            "\u001b[2K   \u001b[90m━━━━━━━━━━━━━━━━━━━━━━━━━━━━━━━━━━━━━━━━\u001b[0m \u001b[32m241.9/241.9 kB\u001b[0m \u001b[31m22.1 MB/s\u001b[0m eta \u001b[36m0:00:00\u001b[0m\n",
            "\u001b[?25hDownloading libucx_cu12-1.15.0.post1-py3-none-manylinux_2_28_x86_64.whl (25.3 MB)\n",
            "\u001b[2K   \u001b[90m━━━━━━━━━━━━━━━━━━━━━━━━━━━━━━━━━━━━━━━━\u001b[0m \u001b[32m25.3/25.3 MB\u001b[0m \u001b[31m82.0 MB/s\u001b[0m eta \u001b[36m0:00:00\u001b[0m\n",
            "\u001b[?25hInstalling collected packages: pynvml, pyarrow, libucx-cu12, ucx-py-cu12, treelite, rmm-cu12, dask, ucxx-cu12, pylibraft-cu12, distributed, dask-expr, cudf-cu12, rapids-dask-dependency, distributed-ucxx-cu12, dask-cudf-cu12, dask-cuda, raft-dask-cu12, cuml-cu12\n",
            "  Attempting uninstall: pyarrow\n",
            "    Found existing installation: pyarrow 14.0.2\n",
            "    Uninstalling pyarrow-14.0.2:\n",
            "      Successfully uninstalled pyarrow-14.0.2\n",
            "  Attempting uninstall: rmm-cu12\n",
            "    Found existing installation: rmm-cu12 24.4.0\n",
            "    Uninstalling rmm-cu12-24.4.0:\n",
            "      Successfully uninstalled rmm-cu12-24.4.0\n",
            "  Attempting uninstall: dask\n",
            "    Found existing installation: dask 2024.8.0\n",
            "    Uninstalling dask-2024.8.0:\n",
            "      Successfully uninstalled dask-2024.8.0\n",
            "  Attempting uninstall: distributed\n",
            "    Found existing installation: distributed 2024.8.0\n",
            "    Uninstalling distributed-2024.8.0:\n",
            "      Successfully uninstalled distributed-2024.8.0\n",
            "  Attempting uninstall: cudf-cu12\n",
            "    Found existing installation: cudf-cu12 24.4.1\n",
            "    Uninstalling cudf-cu12-24.4.1:\n",
            "      Successfully uninstalled cudf-cu12-24.4.1\n",
            "Successfully installed cudf-cu12-24.8.3 cuml-cu12-24.8.0 dask-2024.7.1 dask-cuda-24.8.2 dask-cudf-cu12-24.8.3 dask-expr-1.1.9 distributed-2024.7.1 distributed-ucxx-cu12-0.39.1 libucx-cu12-1.15.0.post1 pyarrow-16.1.0 pylibraft-cu12-24.8.1 pynvml-11.4.1 raft-dask-cu12-24.8.1 rapids-dask-dependency-24.8.0 rmm-cu12-24.8.2 treelite-4.3.0 ucx-py-cu12-0.39.2 ucxx-cu12-0.39.1\n"
          ]
        }
      ]
    },
    {
      "cell_type": "code",
      "source": [
        "from google.colab import drive\n",
        "drive.mount('/content/gdrive')"
      ],
      "metadata": {
        "colab": {
          "base_uri": "https://localhost:8080/"
        },
        "id": "poYcLzedFqC9",
        "outputId": "24932f47-50da-4f2f-f0a3-59edf82b211b"
      },
      "id": "poYcLzedFqC9",
      "execution_count": 3,
      "outputs": [
        {
          "output_type": "stream",
          "name": "stdout",
          "text": [
            "Mounted at /content/gdrive\n"
          ]
        }
      ]
    },
    {
      "cell_type": "code",
      "execution_count": 4,
      "id": "22c1d349-f748-46cc-b445-a3d07b0d918e",
      "metadata": {
        "colab": {
          "base_uri": "https://localhost:8080/"
        },
        "id": "22c1d349-f748-46cc-b445-a3d07b0d918e",
        "outputId": "71821ec2-1d90-42e7-c3cc-f43b2802c483"
      },
      "outputs": [
        {
          "output_type": "execute_result",
          "data": {
            "text/plain": [
              "(   PassengerId  Survived  Pclass  \\\n",
              " 0            1         0       3   \n",
              " 1            2         1       1   \n",
              " 2            3         1       3   \n",
              " 3            4         1       1   \n",
              " 4            5         0       3   \n",
              " \n",
              "                                                 Name     Sex   Age  SibSp  \\\n",
              " 0                            Braund, Mr. Owen Harris    male  22.0      1   \n",
              " 1  Cumings, Mrs. John Bradley (Florence Briggs Th...  female  38.0      1   \n",
              " 2                             Heikkinen, Miss. Laina  female  26.0      0   \n",
              " 3       Futrelle, Mrs. Jacques Heath (Lily May Peel)  female  35.0      1   \n",
              " 4                           Allen, Mr. William Henry    male  35.0      0   \n",
              " \n",
              "    Parch            Ticket     Fare Cabin Embarked  \n",
              " 0      0         A/5 21171   7.2500   NaN        S  \n",
              " 1      0          PC 17599  71.2833   C85        C  \n",
              " 2      0  STON/O2. 3101282   7.9250   NaN        S  \n",
              " 3      0            113803  53.1000  C123        S  \n",
              " 4      0            373450   8.0500   NaN        S  ,\n",
              "    PassengerId  Pclass                                          Name     Sex  \\\n",
              " 0          892       3                              Kelly, Mr. James    male   \n",
              " 1          893       3              Wilkes, Mrs. James (Ellen Needs)  female   \n",
              " 2          894       2                     Myles, Mr. Thomas Francis    male   \n",
              " 3          895       3                              Wirz, Mr. Albert    male   \n",
              " 4          896       3  Hirvonen, Mrs. Alexander (Helga E Lindqvist)  female   \n",
              " \n",
              "     Age  SibSp  Parch   Ticket     Fare Cabin Embarked  \n",
              " 0  34.5      0      0   330911   7.8292   NaN        Q  \n",
              " 1  47.0      1      0   363272   7.0000   NaN        S  \n",
              " 2  62.0      0      0   240276   9.6875   NaN        Q  \n",
              " 3  27.0      0      0   315154   8.6625   NaN        S  \n",
              " 4  22.0      1      1  3101298  12.2875   NaN        S  ,\n",
              "    PassengerId  Survived\n",
              " 0          892         0\n",
              " 1          893         1\n",
              " 2          894         0\n",
              " 3          895         0\n",
              " 4          896         1)"
            ]
          },
          "metadata": {},
          "execution_count": 4
        }
      ],
      "source": [
        "import pandas as pd\n",
        "\n",
        "# Load the datasets\n",
        "train_data = pd.read_csv('gdrive/My Drive/train.csv')\n",
        "test_data = pd.read_csv('gdrive/My Drive/test.csv')\n",
        "gender_submission = pd.read_csv('gdrive/My Drive/gender_submission.csv')\n",
        "\n",
        "# Display the first few rows of each dataset to understand their structure\n",
        "train_data_head = train_data.head()\n",
        "test_data_head = test_data.head()\n",
        "gender_submission_head = gender_submission.head()\n",
        "\n",
        "train_data_head, test_data_head, gender_submission_head\n"
      ]
    },
    {
      "cell_type": "code",
      "execution_count": 5,
      "id": "e66dacd2-7017-4dcd-8c1f-7f80914faac1",
      "metadata": {
        "colab": {
          "base_uri": "https://localhost:8080/"
        },
        "id": "e66dacd2-7017-4dcd-8c1f-7f80914faac1",
        "outputId": "5917a215-c172-428e-a95c-cbc8b5c2839f"
      },
      "outputs": [
        {
          "output_type": "execute_result",
          "data": {
            "text/plain": [
              "(   PassengerId  Survived  Pclass  Sex   Age  SibSp  Parch     Fare  Embarked\n",
              " 0            1         0       3    1  22.0      1      0   7.2500         2\n",
              " 1            2         1       1    0  38.0      1      0  71.2833         0\n",
              " 2            3         1       3    0  26.0      0      0   7.9250         2\n",
              " 3            4         1       1    0  35.0      1      0  53.1000         2\n",
              " 4            5         0       3    1  35.0      0      0   8.0500         2,\n",
              "    PassengerId  Pclass  Sex   Age  SibSp  Parch     Fare  Embarked\n",
              " 0          892       3    1  34.5      0      0   7.8292         1\n",
              " 1          893       3    0  47.0      1      0   7.0000         2\n",
              " 2          894       2    1  62.0      0      0   9.6875         1\n",
              " 3          895       3    1  27.0      0      0   8.6625         2\n",
              " 4          896       3    0  22.0      1      1  12.2875         2)"
            ]
          },
          "metadata": {},
          "execution_count": 5
        }
      ],
      "source": [
        "from sklearn.preprocessing import LabelEncoder\n",
        "\n",
        "# Checking missing values\n",
        "missing_train = train_data.isnull().sum()\n",
        "missing_test = test_data.isnull().sum()\n",
        "\n",
        "# Handle missing values\n",
        "# Fill missing 'Age' with the median of each set\n",
        "train_data['Age'].fillna(train_data['Age'].median(), inplace=True)\n",
        "test_data['Age'].fillna(test_data['Age'].median(), inplace=True)\n",
        "\n",
        "# Fill missing 'Embarked' with the mode of the 'train_data'\n",
        "train_data['Embarked'].fillna(train_data['Embarked'].mode()[0], inplace=True)\n",
        "\n",
        "# Fill missing 'Fare' in test_data with median\n",
        "test_data['Fare'].fillna(test_data['Fare'].median(), inplace=True)\n",
        "\n",
        "# Drop 'Cabin' since it has too many missing values\n",
        "train_data.drop('Cabin', axis=1, inplace=True)\n",
        "test_data.drop('Cabin', axis=1, inplace=True)\n",
        "\n",
        "# Encode categorical variables 'Sex' and 'Embarked'\n",
        "label_encoder_sex = LabelEncoder()\n",
        "train_data['Sex'] = label_encoder_sex.fit_transform(train_data['Sex'])\n",
        "test_data['Sex'] = label_encoder_sex.transform(test_data['Sex'])\n",
        "\n",
        "label_encoder_embarked = LabelEncoder()\n",
        "train_data['Embarked'] = label_encoder_embarked.fit_transform(train_data['Embarked'])\n",
        "test_data['Embarked'] = label_encoder_embarked.transform(test_data['Embarked'])\n",
        "\n",
        "# Drop columns that may not be useful for the model: 'Name', 'Ticket'\n",
        "train_data.drop(['Name', 'Ticket'], axis=1, inplace=True)\n",
        "test_data.drop(['Name', 'Ticket'], axis=1, inplace=True)\n",
        "\n",
        "# Show the result after preprocessing\n",
        "preprocessed_train_data = train_data.head()\n",
        "preprocessed_test_data = test_data.head()\n",
        "\n",
        "preprocessed_train_data, preprocessed_test_data\n"
      ]
    },
    {
      "cell_type": "code",
      "source": [
        "from sklearn.model_selection import train_test_split\n",
        "\n",
        "# Split the data into features (X) and target (y)\n",
        "X = train_data.drop(['Survived', 'PassengerId'], axis=1)  # Features\n",
        "y = train_data['Survived']  # Target variable\n",
        "\n",
        "# Split the training data into train and validation sets\n",
        "X_train, X_val, y_train, y_val = train_test_split(X, y, test_size=0.2, random_state=42)"
      ],
      "metadata": {
        "id": "HLqoN7w1F9z0"
      },
      "id": "HLqoN7w1F9z0",
      "execution_count": 7,
      "outputs": []
    },
    {
      "cell_type": "code",
      "execution_count": 9,
      "id": "87087b3c-5e08-4fee-832f-232f240c7524",
      "metadata": {
        "colab": {
          "base_uri": "https://localhost:8080/"
        },
        "id": "87087b3c-5e08-4fee-832f-232f240c7524",
        "outputId": "3da47953-0623-45f2-89bc-a3b91a623739"
      },
      "outputs": [
        {
          "output_type": "stream",
          "name": "stdout",
          "text": [
            "Fitting 5 folds for each of 216 candidates, totalling 1080 fits\n",
            "\n",
            "Best Parameters: {'C': 100, 'degree': 2, 'gamma': 0.001, 'kernel': 'linear'}\n",
            "\n",
            "Accuracy: 0.7988826815642458\n",
            "\n",
            "Confusion Matrix:\n",
            "[[90 15]\n",
            " [21 53]]\n",
            "\n",
            "Classification Report:\n",
            "              precision    recall  f1-score   support\n",
            "\n",
            "           0       0.81      0.86      0.83       105\n",
            "           1       0.78      0.72      0.75        74\n",
            "\n",
            "    accuracy                           0.80       179\n",
            "   macro avg       0.80      0.79      0.79       179\n",
            "weighted avg       0.80      0.80      0.80       179\n",
            "\n",
            "\n"
          ]
        }
      ],
      "source": [
        "import cuml\n",
        "from cuml.svm import SVC as cumlSVC  # Use cuML's GPU-accelerated SVM\n",
        "from sklearn.model_selection import GridSearchCV\n",
        "from sklearn.metrics import accuracy_score, confusion_matrix, classification_report\n",
        "\n",
        "# Define the parameter grid for SVM\n",
        "param_grid = {\n",
        "    'C': [0.1, 1, 10, 100],  # Regularization parameter\n",
        "    'kernel': ['linear', 'rbf', 'poly'],  # Different kernel functions\n",
        "    'gamma': ['scale', 'auto', 0.001, 0.01, 0.1, 1],  # Kernel coefficient\n",
        "    'degree': [2, 3, 4],  # Degree for 'poly' kernel\n",
        "}\n",
        "\n",
        "# Initialize the cuML SVM model\n",
        "svm_model = cumlSVC()\n",
        "\n",
        "# Set up GridSearchCV with cross-validation\n",
        "grid_search = GridSearchCV(estimator=svm_model, param_grid=param_grid, cv=5, n_jobs=-1, verbose=2)\n",
        "\n",
        "# Fit the model on training data\n",
        "grid_search.fit(X_train, y_train)\n",
        "\n",
        "# Get the best parameters\n",
        "best_params = grid_search.best_params_\n",
        "\n",
        "# Predict using the best model\n",
        "best_svm_model = grid_search.best_estimator_\n",
        "y_val_pred_svm_tuned = best_svm_model.predict(X_val)\n",
        "\n",
        "# Evaluate the tuned model\n",
        "accuracy_svm_tuned = accuracy_score(y_val, y_val_pred_svm_tuned)\n",
        "conf_matrix_svm_tuned = confusion_matrix(y_val, y_val_pred_svm_tuned)\n",
        "classification_rep_svm_tuned = classification_report(y_val, y_val_pred_svm_tuned)\n",
        "\n",
        "# Formatting the output for better readability\n",
        "formatted_output = f\"\"\"\n",
        "Best Parameters: {best_params}\n",
        "\n",
        "Accuracy: {accuracy_svm_tuned}\n",
        "\n",
        "Confusion Matrix:\n",
        "{conf_matrix_svm_tuned}\n",
        "\n",
        "Classification Report:\n",
        "{classification_rep_svm_tuned}\n",
        "\"\"\"\n",
        "\n",
        "print(formatted_output)\n"
      ]
    }
  ],
  "metadata": {
    "kernelspec": {
      "display_name": "Python 3",
      "name": "python3"
    },
    "language_info": {
      "codemirror_mode": {
        "name": "ipython",
        "version": 3
      },
      "file_extension": ".py",
      "mimetype": "text/x-python",
      "name": "python",
      "nbconvert_exporter": "python",
      "pygments_lexer": "ipython3",
      "version": "3.11.7"
    },
    "colab": {
      "provenance": [],
      "gpuType": "T4",
      "include_colab_link": true
    },
    "accelerator": "GPU"
  },
  "nbformat": 4,
  "nbformat_minor": 5
}